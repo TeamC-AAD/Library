{
 "metadata": {
  "language_info": {
   "codemirror_mode": {
    "name": "ipython",
    "version": 3
   },
   "file_extension": ".py",
   "mimetype": "text/x-python",
   "name": "python",
   "nbconvert_exporter": "python",
   "pygments_lexer": "ipython3",
   "version": "3.8.6-final"
  },
  "orig_nbformat": 2,
  "kernelspec": {
   "name": "python3",
   "display_name": "Python 3"
  }
 },
 "nbformat": 4,
 "nbformat_minor": 2,
 "cells": [
  {
   "cell_type": "code",
   "execution_count": 85,
   "metadata": {},
   "outputs": [],
   "source": [
    "import numpy as np\n",
    "import matplotlib.pyplot as plt\n",
    "import random \n",
    "import pandas as pd\n",
    "from sklearn.model_selection import train_test_split\n",
    "from sklearn import preprocessing\n",
    "from sklearn.tree import DecisionTreeClassifier\n",
    "from sklearn.ensemble import RandomForestRegressor\n",
    "from sklearn.linear_model import LinearRegression\n",
    "from sklearn import metrics\n",
    "from sklearn.metrics import f1_score\n",
    "from sklearn.metrics import mean_squared_error\n",
    "import sys\n",
    "from typing import Sequence\n",
    "sys.path.append(\"..\")\n",
    "from geneticalg.core.AbstractSolver import AbstractSolver"
   ]
  },
  {
   "cell_type": "code",
   "execution_count": 2,
   "metadata": {},
   "outputs": [
    {
     "output_type": "execute_result",
     "data": {
      "text/plain": [
       "   0   1      2                    3    4     5     6     7     8     9    \\\n",
       "0    8   ?      ?         Lakewoodcity    1  0.19  0.33  0.02  0.90  0.12   \n",
       "1   53   ?      ?          Tukwilacity    1  0.00  0.16  0.12  0.74  0.45   \n",
       "2   24   ?      ?         Aberdeentown    1  0.00  0.42  0.49  0.56  0.17   \n",
       "3   34   5  81440  Willingborotownship    1  0.04  0.77  1.00  0.08  0.12   \n",
       "4   42  95   6096    Bethlehemtownship    1  0.01  0.55  0.02  0.95  0.09   \n",
       "\n",
       "   ...   118   119   120   121   122  123  124   125   126   127  \n",
       "0  ...  0.12  0.26  0.20  0.06  0.04  0.9  0.5  0.32  0.14  0.20  \n",
       "1  ...  0.02  0.12  0.45     ?     ?    ?    ?  0.00     ?  0.67  \n",
       "2  ...  0.01  0.21  0.02     ?     ?    ?    ?  0.00     ?  0.43  \n",
       "3  ...  0.02  0.39  0.28     ?     ?    ?    ?  0.00     ?  0.12  \n",
       "4  ...  0.04  0.09  0.02     ?     ?    ?    ?  0.00     ?  0.03  \n",
       "\n",
       "[5 rows x 128 columns]"
      ],
      "text/html": "<div>\n<style scoped>\n    .dataframe tbody tr th:only-of-type {\n        vertical-align: middle;\n    }\n\n    .dataframe tbody tr th {\n        vertical-align: top;\n    }\n\n    .dataframe thead th {\n        text-align: right;\n    }\n</style>\n<table border=\"1\" class=\"dataframe\">\n  <thead>\n    <tr style=\"text-align: right;\">\n      <th></th>\n      <th>0</th>\n      <th>1</th>\n      <th>2</th>\n      <th>3</th>\n      <th>4</th>\n      <th>5</th>\n      <th>6</th>\n      <th>7</th>\n      <th>8</th>\n      <th>9</th>\n      <th>...</th>\n      <th>118</th>\n      <th>119</th>\n      <th>120</th>\n      <th>121</th>\n      <th>122</th>\n      <th>123</th>\n      <th>124</th>\n      <th>125</th>\n      <th>126</th>\n      <th>127</th>\n    </tr>\n  </thead>\n  <tbody>\n    <tr>\n      <th>0</th>\n      <td>8</td>\n      <td>?</td>\n      <td>?</td>\n      <td>Lakewoodcity</td>\n      <td>1</td>\n      <td>0.19</td>\n      <td>0.33</td>\n      <td>0.02</td>\n      <td>0.90</td>\n      <td>0.12</td>\n      <td>...</td>\n      <td>0.12</td>\n      <td>0.26</td>\n      <td>0.20</td>\n      <td>0.06</td>\n      <td>0.04</td>\n      <td>0.9</td>\n      <td>0.5</td>\n      <td>0.32</td>\n      <td>0.14</td>\n      <td>0.20</td>\n    </tr>\n    <tr>\n      <th>1</th>\n      <td>53</td>\n      <td>?</td>\n      <td>?</td>\n      <td>Tukwilacity</td>\n      <td>1</td>\n      <td>0.00</td>\n      <td>0.16</td>\n      <td>0.12</td>\n      <td>0.74</td>\n      <td>0.45</td>\n      <td>...</td>\n      <td>0.02</td>\n      <td>0.12</td>\n      <td>0.45</td>\n      <td>?</td>\n      <td>?</td>\n      <td>?</td>\n      <td>?</td>\n      <td>0.00</td>\n      <td>?</td>\n      <td>0.67</td>\n    </tr>\n    <tr>\n      <th>2</th>\n      <td>24</td>\n      <td>?</td>\n      <td>?</td>\n      <td>Aberdeentown</td>\n      <td>1</td>\n      <td>0.00</td>\n      <td>0.42</td>\n      <td>0.49</td>\n      <td>0.56</td>\n      <td>0.17</td>\n      <td>...</td>\n      <td>0.01</td>\n      <td>0.21</td>\n      <td>0.02</td>\n      <td>?</td>\n      <td>?</td>\n      <td>?</td>\n      <td>?</td>\n      <td>0.00</td>\n      <td>?</td>\n      <td>0.43</td>\n    </tr>\n    <tr>\n      <th>3</th>\n      <td>34</td>\n      <td>5</td>\n      <td>81440</td>\n      <td>Willingborotownship</td>\n      <td>1</td>\n      <td>0.04</td>\n      <td>0.77</td>\n      <td>1.00</td>\n      <td>0.08</td>\n      <td>0.12</td>\n      <td>...</td>\n      <td>0.02</td>\n      <td>0.39</td>\n      <td>0.28</td>\n      <td>?</td>\n      <td>?</td>\n      <td>?</td>\n      <td>?</td>\n      <td>0.00</td>\n      <td>?</td>\n      <td>0.12</td>\n    </tr>\n    <tr>\n      <th>4</th>\n      <td>42</td>\n      <td>95</td>\n      <td>6096</td>\n      <td>Bethlehemtownship</td>\n      <td>1</td>\n      <td>0.01</td>\n      <td>0.55</td>\n      <td>0.02</td>\n      <td>0.95</td>\n      <td>0.09</td>\n      <td>...</td>\n      <td>0.04</td>\n      <td>0.09</td>\n      <td>0.02</td>\n      <td>?</td>\n      <td>?</td>\n      <td>?</td>\n      <td>?</td>\n      <td>0.00</td>\n      <td>?</td>\n      <td>0.03</td>\n    </tr>\n  </tbody>\n</table>\n<p>5 rows × 128 columns</p>\n</div>"
     },
     "metadata": {},
     "execution_count": 2
    }
   ],
   "source": [
    "df1 = pd.read_csv(\"communities.data\" , header=None)\n",
    "df1.head(5)"
   ]
  },
  {
   "cell_type": "code",
   "execution_count": 3,
   "metadata": {},
   "outputs": [
    {
     "output_type": "stream",
     "name": "stdout",
     "text": [
      "state\ncounty\ncommunity\ncommunityname\nfold\npopulation\nhouseholdsize\nracepctblack\nracePctWhite\nracePctAsian\nracePctHisp\nagePct12t21\nagePct12t29\nagePct16t24\nagePct65up\nnumbUrban\npctUrban\nmedIncome\npctWWage\npctWFarmSelf\npctWInvInc\npctWSocSec\npctWPubAsst\npctWRetire\nmedFamInc\nperCapInc\nwhitePerCap\nblackPerCap\nindianPerCap\nAsianPerCap\nOtherPerCap\nHispPerCap\nNumUnderPov\nPctPopUnderPov\nPctLess9thGrade\nPctNotHSGrad\nPctBSorMore\nPctUnemployed\nPctEmploy\nPctEmplManu\nPctEmplProfServ\nPctOccupManu\nPctOccupMgmtProf\nMalePctDivorce\nMalePctNevMarr\nFemalePctDiv\nTotalPctDiv\nPersPerFam\nPctFam2Par\nPctKids2Par\nPctYoungKids2Par\nPctTeen2Par\nPctWorkMomYoungKids\nPctWorkMom\nNumIlleg\nPctIlleg\nNumImmig\nPctImmigRecent\nPctImmigRec5\nPctImmigRec8\nPctImmigRec10\nPctRecentImmig\nPctRecImmig5\nPctRecImmig8\nPctRecImmig10\nPctSpeakEnglOnly\nPctNotSpeakEnglWell\nPctLargHouseFam\nPctLargHouseOccup\nPersPerOccupHous\nPersPerOwnOccHous\nPersPerRentOccHous\nPctPersOwnOccup\nPctPersDenseHous\nPctHousLess3BR\nMedNumBR\nHousVacant\nPctHousOccup\nPctHousOwnOcc\nPctVacantBoarded\nPctVacMore6Mos\nMedYrHousBuilt\nPctHousNoPhone\nPctWOFullPlumb\nOwnOccLowQuart\nOwnOccMedVal\nOwnOccHiQuart\nRentLowQ\nRentMedian\nRentHighQ\nMedRent\nMedRentPctHousInc\nMedOwnCostPctInc\nMedOwnCostPctIncNoMtg\nNumInShelters\nNumStreet\nPctForeignBorn\nPctBornSameState\nPctSameHouse85\nPctSameCity85\nPctSameState85\nLemasSwornFT\nLemasSwFTPerPop\nLemasSwFTFieldOps\nLemasSwFTFieldPerPop\nLemasTotalReq\nLemasTotReqPerPop\nPolicReqPerOffic\nPolicPerPop\nRacialMatchCommPol\nPctPolicWhite\nPctPolicBlack\nPctPolicHisp\nPctPolicAsian\nPctPolicMinor\nOfficAssgnDrugUnits\nNumKindsDrugsSeiz\nPolicAveOTWorked\nLandArea\nPopDens\nPctUsePubTrans\nPolicCars\nPolicOperBudg\nLemasPctPolicOnPatr\nLemasGangUnitDeploy\nLemasPctOfficDrugUn\nPolicBudgPerPop\nViolentCrimesPerPop\n"
     ]
    }
   ],
   "source": [
    "def read_header(filename):\n",
    "    '''\n",
    "    Given a filename containing headers, extract the headers and assign it to df\n",
    "    '''\n",
    "\n",
    "    header_list = []\n",
    "    with open(filename) as f:\n",
    "        for line in f:\n",
    "            if \"@attribute\" in line:\n",
    "                header_list.append(line.split(\" \")[1])\n",
    "    return header_list\n",
    "    \n",
    "headers = read_header(\"communities.names\")\n",
    "for i in headers:\n",
    "    print(i)\n",
    "df1.columns = headers"
   ]
  },
  {
   "cell_type": "code",
   "execution_count": 4,
   "metadata": {},
   "outputs": [],
   "source": [
    "def drop_columns(columns , df):\n",
    "    '''\n",
    "    Given dataframe , returns updated df with removed colums\n",
    "    '''\n",
    "    for i in columns:\n",
    "        df = df.drop(i , axis=1)\n",
    "\n",
    "    return df\n",
    "\n",
    "drop_list = ['state' , 'county' , 'community' , 'communityname' , 'fold' ]\n",
    "df1 = drop_columns(drop_list , df1)\n"
   ]
  },
  {
   "cell_type": "code",
   "execution_count": 5,
   "metadata": {},
   "outputs": [],
   "source": [
    "def find_missing_values(df):\n",
    "    '''\n",
    "    Gets the missing value indices\n",
    "    '''\n",
    "    missing_values = []\n",
    "    missing_values_each_row = []\n",
    "    for i in range(df.shape[0]):\n",
    "        if \"?\" in list(df.iloc[i].values):\n",
    "            missing_values.append(i)\n",
    "\n",
    "    for column in df.columns:\n",
    "        count = df[df[column] == \"?\"].shape[0]\n",
    "        missing_values_each_row.append((column , count))\n",
    "    \n",
    "\n",
    "    for column,count in missing_values_each_row:\n",
    "        if count == 1675:\n",
    "            df = df.drop(column , axis=1)\n",
    "            \n",
    "    df = df[df[\"OtherPerCap\"] != \"?\"]\n",
    "\n",
    "    return df\n",
    "\n",
    "df1 = find_missing_values(df1)"
   ]
  },
  {
   "cell_type": "code",
   "execution_count": 6,
   "metadata": {},
   "outputs": [
    {
     "output_type": "stream",
     "name": "stdout",
     "text": [
      "(1594, 100) (1594,)\n(399, 100) (399,)\n"
     ]
    }
   ],
   "source": [
    "x = df1.drop(\"ViolentCrimesPerPop\", axis=1)\n",
    "y = df1[\"ViolentCrimesPerPop\"]\n",
    "x_train, x_test, y_train, y_test = train_test_split(x, y, train_size=0.8, random_state=24)\n",
    "print(x_train.shape , y_train.shape)\n",
    "print(x_test.shape , y_test.shape)"
   ]
  },
  {
   "cell_type": "code",
   "execution_count": 58,
   "metadata": {},
   "outputs": [],
   "source": [
    "dist = []"
   ]
  },
  {
   "cell_type": "code",
   "execution_count": 59,
   "metadata": {},
   "outputs": [],
   "source": [
    "def fitness_func(chromosome):\n",
    "    columns = []\n",
    "    for i in range(len(x_train.columns)):\n",
    "        if i in chromosome:\n",
    "            columns.append(x_train.columns[i])\n",
    "    dist.append(columns)\n",
    "    training_set = x_train[columns]\n",
    "    test_set = x_test[columns]\n",
    "    lg = LinearRegression().fit(training_set.values, y_train.values)\n",
    "    preds = lg.predict(test_set.values)\n",
    "    return 100 / np.sqrt(mean_squared_error(y_test.values, preds))\n",
    "    \n",
    "\n"
   ]
  },
  {
   "cell_type": "code",
   "execution_count": 92,
   "metadata": {
    "tags": []
   },
   "outputs": [
    {
     "output_type": "stream",
     "name": "stdout",
     "text": [
      "Iter number: 1\n",
      "Best fitness: 0.0013614502153978649\n",
      "best individual: [81. 73. 90. 84. 47. 21. 67. 35. 40. 24. 64. 69. 26. 55. 25. 68. 57. 59.\n",
      " 74. 87. 38. 82.  0. 44. 76. 33. 92. 32. 13. 52. 79. 78. 85.  9. 72. 20.\n",
      " 66. 49. 22. 65. 62.  7.  4. 89. 96. 17. 11. 15.  2. 93.]\n",
      "Iter number: 2\n",
      "Best fitness: 0.0013614502153978649\n",
      "best individual: [81. 73. 90. 84. 47. 21. 67. 35. 40. 24. 64. 69. 26. 55. 25. 68. 57. 59.\n",
      " 74. 87. 38. 82.  0. 44. 76. 33. 92. 32. 13. 52. 79. 78. 85.  9. 72. 20.\n",
      " 66. 49. 22. 65. 62.  7.  4. 89. 96. 17. 11. 15.  2. 93.]\n",
      "Best individual: [64. 73. 90. 84. 74. 21. 67. 35. 40. 24. 81. 69. 26. 55. 25. 68. 57. 59.\n",
      " 47. 87. 38. 82.  0. 44. 76. 33. 92. 32. 13. 52. 79. 78. 85.  9. 72. 20.\n",
      " 66. 49. 22. 65. 62.  7.  4. 89. 96. 17. 11. 15.  2. 93.]\n",
      "Best fitness: 734.5108830937046\n"
     ]
    },
    {
     "output_type": "execute_result",
     "data": {
      "text/plain": [
       "[]"
      ]
     },
     "metadata": {},
     "execution_count": 92
    }
   ],
   "source": [
    "class FeatureSolver(AbstractSolver):\n",
    "    def __init__(\n",
    "        self,\n",
    "        problem_type=float,\n",
    "        fitness_func= lambda a : fitness_func(a),\n",
    "        pop_cnt: int = 40,\n",
    "        gene_size: int = 50,\n",
    "        max_gen: int = 2,\n",
    "        mutation_ratio: float = 0.2,\n",
    "        selection_ratio: float = 0.2,\n",
    "        selection_type: str = \"roulette_wheel\",\n",
    "        mutation_type: str = \"insert\",\n",
    "        crossover_type: str = \"one_point\",\n",
    "        excluded_genes: Sequence = None,\n",
    "        variables_limits=(-10, 10),\n",
    "        verbose: bool = False,\n",
    "        cv=0,\n",
    "        **kwargs\n",
    "    ):\n",
    "        \"\"\"\n",
    "        :param fitness_function: can either be a fitness function or\n",
    "        a class implementing a fitness function + methods to override\n",
    "        the default ones: create_offspring, mutate_population, initialize_population\n",
    "        :param n_genes: number of genes (variables) to have in each chromosome\n",
    "        :param max_gen: maximum number of generations to perform the optimization\n",
    "        :param pop_size: population size\n",
    "        :param mutation_rate: rate at which random mutations occur\n",
    "        :param selection_rate: percentage of the population to be selected for crossover\n",
    "        :param selection_strategy: strategy to use for selection\n",
    "        :param verbose: whether to print iterations status\n",
    "        :param show_stats: whether to print stats at the end\n",
    "        :param plot_results: whether to plot results of the run at the end\n",
    "        :param variables_limits: limits for each variable [(x1_min, x1_max), (x2_min, x2_max), ...].\n",
    "        If only one tuple is provided, then it is assumed the same for every variable\n",
    "        :param problem_type: whether problem is of float or integer type\n",
    "        \"\"\"\n",
    "\n",
    "        AbstractSolver.__init__(\n",
    "            self,\n",
    "            problem_type=problem_type,\n",
    "            gene_size=gene_size,\n",
    "            fitness_func=fitness_func,\n",
    "            pop_cnt=pop_cnt,\n",
    "            max_gen=max_gen,\n",
    "            mutation_ratio=mutation_ratio,\n",
    "            selection_ratio=selection_ratio,\n",
    "            selection_type=selection_type,\n",
    "            mutation_type=mutation_type,\n",
    "            crossover_type=crossover_type,\n",
    "            excluded_genes=excluded_genes,\n",
    "            verbose=verbose,\n",
    "            cv=cv,\n",
    "            **kwargs\n",
    "        )\n",
    "        \n",
    "    def initialize_population(self):\n",
    "        \"\"\"\n",
    "        Initializes the population of the problem according to the\n",
    "        population size and number of genes and according to the problem\n",
    "        type (either integers or floats).\n",
    "\n",
    "        :return: a numpy array with a randomized initialized population\n",
    "        \"\"\"\n",
    "        population = np.empty(shape=(self.pop_cnt, self.gene_size))\n",
    "        for i in range(0,self.pop_cnt):\n",
    "            population[i] = random.sample(range(0,99) , self.gene_size)\n",
    "\n",
    "\n",
    "        return population\n",
    "\n",
    "random.seed(10)        \n",
    "solver = FeatureSolver(\n",
    "        gene_size=50,\n",
    "        cv=0 \n",
    "    )\n",
    "\n",
    "list(solver.solve())"
   ]
  },
  {
   "cell_type": "code",
   "execution_count": null,
   "metadata": {},
   "outputs": [],
   "source": []
  }
 ]
}